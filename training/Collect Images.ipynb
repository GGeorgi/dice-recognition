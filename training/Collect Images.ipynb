{
 "cells": [
  {
   "cell_type": "code",
   "execution_count": null,
   "id": "60166a3d",
   "metadata": {},
   "outputs": [],
   "source": [
    "!pip install opencv-python"
   ]
  },
  {
   "cell_type": "code",
   "execution_count": null,
   "id": "f5b1b604",
   "metadata": {},
   "outputs": [],
   "source": [
    "# Import opencv\n",
    "import cv2 \n",
    "\n",
    "# Import uuid\n",
    "import uuid\n",
    "\n",
    "# Import Operating System\n",
    "import os\n",
    "\n",
    "# Import time\n",
    "import time\n",
    "\n",
    "labels = ['one', 'two', 'three', 'four', 'five', 'six']\n",
    "number_imgs = 8\n",
    "\n",
    "IMAGES_PATH = os.path.join('Tensorflow', 'workspace', 'images', 'collectedimages')\n",
    "\n",
    "if not os.path.exists(IMAGES_PATH):\n",
    "    !mkdir -p {IMAGES_PATH}"
   ]
  },
  {
   "cell_type": "code",
   "execution_count": null,
   "id": "60a8f746",
   "metadata": {},
   "outputs": [],
   "source": [
    "labelIndex = 0\n",
    "label = labels[labelIndex]\n",
    "img_counter = 0\n",
    "\n",
    "cam = cv2.VideoCapture(0)\n",
    "\n",
    "print('Collecting images for {}'.format(label))\n",
    "print('Collecting image {}'.format(0))\n",
    "# while loop\n",
    "while True:\n",
    "    # intializing the frame, ret\n",
    "    ret, frame = cam.read()\n",
    "    # the frame will show with the title of test\n",
    "    cv2.imshow('test', frame)\n",
    "    #to get continuous live video feed from my laptops webcam\n",
    "    k  = cv2.waitKey(1)\n",
    "    # if the escape key is been pressed, the app will stop\n",
    "    if k%256 == 27:\n",
    "        print('escape hit, closing the app')\n",
    "        break\n",
    "    # if the spacebar key is been pressed\n",
    "    # screenshots will be taken\n",
    "    elif k%256  == 32:\n",
    "        # the format for storing the images scrreenshotted\n",
    "        imgname = os.path.join(IMAGES_PATH,label+'.'+'{}.jpg'.format(str(uuid.uuid1())))\n",
    "        # saves the image as a png file\n",
    "        cv2.imwrite(imgname, frame)\n",
    "        img_counter += 1\n",
    "        if img_counter == number_imgs:\n",
    "            img_counter = 0\n",
    "            labelIndex += 1\n",
    "            \n",
    "            if labelIndex == len(labels):\n",
    "                break\n",
    "            \n",
    "            label = labels[labelIndex]\n",
    "            print('Collecting images for {}'.format(label))\n",
    "        else: print('Collecting image {}'.format(img_counter))\n",
    "            \n",
    "# release the camera\n",
    "cam.release()\n",
    "\n",
    "# stops the camera window\n",
    "cam.destoryAllWindows()"
   ]
  }
 ],
 "metadata": {
  "kernelspec": {
   "display_name": "tfod",
   "language": "python",
   "name": "tfod"
  },
  "language_info": {
   "codemirror_mode": {
    "name": "ipython",
    "version": 3
   },
   "file_extension": ".py",
   "mimetype": "text/x-python",
   "name": "python",
   "nbconvert_exporter": "python",
   "pygments_lexer": "ipython3",
   "version": "3.10.9"
  }
 },
 "nbformat": 4,
 "nbformat_minor": 5
}
